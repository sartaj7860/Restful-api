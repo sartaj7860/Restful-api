{
  "nbformat": 4,
  "nbformat_minor": 0,
  "metadata": {
    "colab": {
      "provenance": []
    },
    "kernelspec": {
      "name": "python3",
      "display_name": "Python 3"
    },
    "language_info": {
      "name": "python"
    }
  },
  "cells": [
    {
      "cell_type": "markdown",
      "source": [
        "Theory Questions : Restful API & Flask Assignment\n",
        "1. What is a RESTful API?\n",
        "A RESTful API is an Application Programming Interface that follows the Representational State Transfer (REST) architectural style.\n",
        "\n",
        "Key Characteristics:\n",
        "Uses HTTP methods (GET, POST, PUT, DELETE).\n",
        "\n",
        "Works on resources identified by URLs.\n",
        "\n",
        "Communication is stateless (each request is independent).\n",
        "\n",
        "Responses are usually in JSON or XML format.\n",
        "\n",
        "Supports CRUD operations:\n",
        "\n",
        "Create → POST\n",
        "Read → GET\n",
        "Update → PUT/PATCH\n",
        "Delete → DELETE\n",
        "2. Explain the concept of API specification\n",
        "An API specification is a blueprint that defines how an API works. It provides:\n",
        "\n",
        "Endpoints (URLs) and supported methods.\n",
        "Request formats (headers, query parameters, body).\n",
        "Response formats (status codes, JSON schema).\n",
        "Authentication methods (API keys, OAuth, JWT).\n",
        "Why important?\n",
        "Acts as a contract between frontend and backend teams.\n",
        "Enables API documentation (Swagger/OpenAPI).\n",
        "Helps in automated testing and client SDK generation.\n",
        "3. What is Flask, and why is it popular for building APIs?\n",
        "Flask is a lightweight web framework in Python used to build web applications and APIs.\n",
        "\n",
        "Why popular?\n",
        "Minimalistic & Flexible: Unlike Django, Flask does not enforce strict structure.\n",
        "Extensible: Supports plugins (Flask-SQLAlchemy, Flask-RESTful).\n",
        "Easy to Learn: Perfect for beginners and small projects.\n",
        "Supports REST APIs easily.\n",
        "4. What is routing in Flask?\n",
        "Routing in Flask maps URLs (endpoints) to Python functions (views).\n",
        "\n",
        "Example: /home → home() function.\n",
        "Routes are defined using the @app.route() decorator.\n",
        "5. How do you create a simple Flask application?\n",
        "from flask import Flask\n",
        "app = Flask(_name_)\n",
        "\n",
        "@app.route('/')\n",
        "def home():\n",
        "    return \"Hello, Flask!\"\n",
        "\n",
        "if _name_ == '_main_':\n",
        "    app.run(debug=True)\n",
        "✔ Run this code → Access in browser at http://127.0.0.1:5000/\n",
        "\n",
        "6. What are HTTP methods used in RESTful APIs?\n",
        "GET → Fetch data from the server.\n",
        "POST → Send new data to the server.\n",
        "PUT → Replace/Update existing data.\n",
        "PATCH → Partially update existing data.\n",
        "DELETE → Remove data.\n",
        "7. Purpose of @app.route() in Flask\n",
        "@app.route() maps a URL to a function. Example:\n",
        "\n",
        "@app.route('/hello')\n",
        "def hello():\n",
        "    return \"Hello World!\"\n",
        "8. Difference between GET and POST\n",
        "Feature\tGET\tPOST\n",
        "Purpose\tRetrieve data\tSend data to the server\n",
        "Data sent\tURL query string\tRequest body\n",
        "Security\tLess secure (visible)\tMore secure\n",
        "Use case\tRead-only requests\tForm submissions, API POST\n",
        "9. How do you handle errors in Flask APIs?\n",
        "Use error handlers or abort():\n",
        "\n",
        "from flask import abort\n",
        "\n",
        "@app.route('/secure')\n",
        "def secure():\n",
        "    abort(403)  # Forbidden\n",
        "Custom error response:\n",
        "\n",
        "@app.errorhandler(404)\n",
        "def page_not_found(e):\n",
        "    return {\"error\": \"Page not found\"}, 404\n",
        "10. How to connect Flask to SQL database?\n",
        "Using Flask-SQLAlchemy:\n",
        "\n",
        "from flask_sqlalchemy import SQLAlchemy\n",
        "\n",
        "app.config['SQLALCHEMY_DATABASE_URI'] = 'sqlite:///test.db'\n",
        "db = SQLAlchemy(app)\n",
        "11. Role of Flask-SQLAlchemy\n",
        "Acts as an ORM (Object Relational Mapper).\n",
        "Allows you to interact with database using Python classes instead of raw SQL.\n",
        "Example:\n",
        "class User(db.Model):\n",
        "    id = db.Column(db.Integer, primary_key=True)\n",
        "    name = db.Column(db.String(80))\n",
        "12. What are Flask Blueprints?\n",
        "Blueprints are a way to organize large Flask apps into smaller, reusable modules. Example:\n",
        "\n",
        "auth routes → auth.py\n",
        "API routes → api.py\n",
        "13. Purpose of Flask's request object\n",
        "request contains incoming HTTP request data:\n",
        "\n",
        "request.args → Query params\n",
        "request.form → Form data\n",
        "request.json → JSON data\n",
        "14. How to create a RESTful API endpoint in Flask?\n",
        "@app.route('/api/data', methods=['GET'])\n",
        "def get_data():\n",
        "    return {\"message\": \"Hello API\"}\n",
        "15. Purpose of Flask's jsonify()\n",
        "jsonify() converts Python data (dict/list) into a JSON response with Content-Type: application/json.\n",
        "\n",
        "16. Explain Flask’s url_for()\n",
        "Generates dynamic URLs:\n",
        "\n",
        "@app.route('/home')\n",
        "def home():\n",
        "    return \"Home Page\"\n",
        "\n",
        "# Somewhere else\n",
        "url_for('home')  # returns '/home'\n",
        "17. Handling static files\n",
        "Place files in static/ folder.\n",
        "Access:\n",
        "<link rel=\"stylesheet\" href=\"{{ url_for('static', filename='style.css') }}\">\n",
        "18. API specification in Flask\n",
        "Helps define:\n",
        "\n",
        "Endpoints\n",
        "Methods\n",
        "JSON request/response Tools: Swagger (Flasgger), OpenAPI\n",
        "19. HTTP Status Codes\n",
        "200 OK → Success\n",
        "201 Created → Resource created\n",
        "400 Bad Request → Invalid input\n",
        "404 Not Found\n",
        "500 Internal Server Error\n",
        "20. Handling POST requests\n",
        "@app.route('/submit', methods=['POST'])\n",
        "def submit():\n",
        "    data = request.json\n",
        "    return {\"received\": data}, 201\n",
        "21. How to secure Flask API\n",
        "Use HTTPS\n",
        "Authentication → JWT, OAuth\n",
        "Validate inputs\n",
        "Use CORS control\n",
        "Apply rate limiting\n",
        "22. Flask-RESTful\n",
        "Extension to simplify REST APIs:\n",
        "\n",
        "Provides Resource classes\n",
        "Built-in input parsing\n",
        "Cleaner code for HTTP methods\n",
        "23. Flask session object\n",
        "Stores user-specific data between requests.\n",
        "Uses secure cookies.\n",
        "Example:\n",
        "from flask import session\n",
        "session['username'] = 'John'"
      ],
      "metadata": {
        "id": "fwoENLRtPtIT"
      }
    },
    {
      "cell_type": "code",
      "source": [],
      "metadata": {
        "colab": {
          "base_uri": "https://localhost:8080/",
          "height": 106
        },
        "id": "5i4di_h9QDGr",
        "outputId": "50b912f6-8729-4c3f-e9c3-7db7cf81af3c"
      },
      "execution_count": 1,
      "outputs": [
        {
          "output_type": "error",
          "ename": "SyntaxError",
          "evalue": "invalid syntax (ipython-input-2638811790.py, line 1)",
          "traceback": [
            "\u001b[0;36m  File \u001b[0;32m\"/tmp/ipython-input-2638811790.py\"\u001b[0;36m, line \u001b[0;32m1\u001b[0m\n\u001b[0;31m    Practical Questions : Restful API & Flask Assignment\u001b[0m\n\u001b[0m              ^\u001b[0m\n\u001b[0;31mSyntaxError\u001b[0m\u001b[0;31m:\u001b[0m invalid syntax\n"
          ]
        }
      ]
    },
    {
      "cell_type": "code",
      "source": [
        "#Practical Questions : Restful API & Flask Assignment\n",
        "\n",
        "# 1. How do you create a basic Flask application?\n",
        "# - Use Flask class, define routes using @app.route(), and run the app.\n",
        "from flask import Flask\n",
        "app = Flask(_name_)\n",
        "\n",
        "@app.route('/')\n",
        "def home():\n",
        "    return \"Hello, Flask!\"\n",
        "\n",
        "if _name_ == '_main_':\n",
        "    app.run(debug=True)"
      ],
      "metadata": {
        "id": "YlyhejSSQDCl"
      },
      "execution_count": null,
      "outputs": []
    },
    {
      "cell_type": "code",
      "source": [
        "2. How do you serve static files like images or CSS in Flask?\n",
        "# - Place static files in the \"static/\" folder and use url_for() to reference them in templates.\n",
        "# Example HTML:\n",
        "#"
      ],
      "metadata": {
        "id": "Rac57jluQlbq"
      },
      "execution_count": null,
      "outputs": []
    },
    {
      "cell_type": "code",
      "source": [
        "# 3. How do you define different routes with different HTTP methods in Flask?\n",
        "# - Specify allowed methods in @app.route(methods=[]).\n",
        "from flask import request\n",
        "\n",
        "@app.route('/data', methods=['GET', 'POST'])\n",
        "def data():\n",
        "    if request.method == 'GET':\n",
        "        return \"GET request\"\n",
        "    elif request.method == 'POST':\n",
        "        return \"POST request\""
      ],
      "metadata": {
        "id": "jgq8vPkSQlYv"
      },
      "execution_count": null,
      "outputs": []
    },
    {
      "cell_type": "code",
      "source": [
        "# 4. How do you render HTML templates in Flask?\n",
        "# - Use render_template() and place HTML files inside a \"templates\" folder.\n",
        "from flask import render_template\n",
        "\n",
        "@app.route('/hello')\n",
        "def hello():\n",
        "    return render_template('index.html', name=\"John\")\n",
        "# Example index.html:\n",
        "# Hello, {{ name }}!"
      ],
      "metadata": {
        "id": "bwvTHBdCQlRo"
      },
      "execution_count": null,
      "outputs": []
    },
    {
      "cell_type": "code",
      "source": [
        "# 5. How can you generate URLs for routes in Flask using url_for()?\n",
        "# - Use url_for('function_name', param=value) to dynamically create URLs.\n",
        "from flask import url_for\n",
        "\n",
        "@app.route('/profile/')\n",
        "def profile(username):\n",
        "    return f\"Profile: {username}\"\n",
        "\n",
        "@app.route('/link')\n",
        "def link():\n",
        "    return url_for('profile', username='john')"
      ],
      "metadata": {
        "id": "JvI95NANQlOu"
      },
      "execution_count": null,
      "outputs": []
    },
    {
      "cell_type": "code",
      "source": [
        "# 6. How do you handle forms in Flask?\n",
        "# - Use request.form to get form data submitted via POST.\n",
        "from flask import request\n",
        "\n",
        "@app.route('/submit', methods=['POST'])\n",
        "def submit():\n",
        "    name = request.form.get('name')\n",
        "    return f\"Hello, {name}\""
      ],
      "metadata": {
        "id": "oasVlMWGQlK_"
      },
      "execution_count": null,
      "outputs": []
    },
    {
      "cell_type": "code",
      "source": [
        "# 7. How can you validate form data in Flask?\n",
        "# - Perform manual checks or use Flask-WTF for advanced validation.\n",
        "@app.route('/validate', methods=['POST'])\n",
        "def validate():\n",
        "    name = request.form.get('name')\n",
        "    if not name:\n",
        "        return \"Name is required\", 400\n",
        "    return f\"Valid name: {name}\""
      ],
      "metadata": {
        "id": "Px1rQIhoQlJP"
      },
      "execution_count": null,
      "outputs": []
    },
    {
      "cell_type": "code",
      "source": [
        "# 8. How do you manage sessions in Flask?\n",
        "# - Use session dictionary. Requires app.secret_key.\n",
        "from flask import session\n",
        "\n",
        "app.secret_key = 'mysecret'\n",
        "\n",
        "@app.route('/set')\n",
        "def set_session():\n",
        "    session['username'] = 'John'\n",
        "    return \"Session set\"\n",
        "\n",
        "@app.route('/get')\n",
        "def get_session():\n",
        "    return session.get('username', 'Not set')"
      ],
      "metadata": {
        "id": "xhntOWrpQk_6"
      },
      "execution_count": null,
      "outputs": []
    },
    {
      "cell_type": "code",
      "source": [
        "# 9. How do you redirect to a different route in Flask?\n",
        "# - Use redirect() with url_for().\n",
        "from flask import redirect\n",
        "\n",
        "@app.route('/login')\n",
        "def login():\n",
        "    return redirect(url_for('home'))"
      ],
      "metadata": {
        "id": "l5S8sq9tQk8-"
      },
      "execution_count": null,
      "outputs": []
    },
    {
      "cell_type": "code",
      "source": [
        "# 10. How do you handle errors in Flask (e.g., 404)?\n",
        "# - Use @app.errorhandler() to define custom error responses.\n",
        "@app.errorhandler(404)\n",
        "def page_not_found(e):\n",
        "    return \"Custom 404 Page\", 404"
      ],
      "metadata": {
        "id": "trpvS9edQk5j"
      },
      "execution_count": null,
      "outputs": []
    },
    {
      "cell_type": "code",
      "source": [
        "# 11. How do you structure a Flask app using Blueprints?\n",
        "# - Use Blueprint objects to modularize routes.\n",
        "from flask import Blueprint\n",
        "\n",
        "auth_bp = Blueprint('auth', _name_)\n",
        "\n",
        "@auth_bp.route('/login')\n",
        "def auth_login():\n",
        "    return \"Auth Login\"\n",
        "\n",
        "app.register_blueprint(auth_bp, url_prefix"
      ],
      "metadata": {
        "id": "hVL1JslSQk3z"
      },
      "execution_count": null,
      "outputs": []
    },
    {
      "cell_type": "code",
      "source": [
        "# 12. How do you define a custom Jinja filter in Flask?\n",
        "# - Use @app.template_filter() decorator.\n",
        "@app.template_filter('reverse')\n",
        "def reverse_filter(s):\n",
        "    return s[::-1]\n",
        "# In template: {{ 'hello'|reverse }} -> olleh"
      ],
      "metadata": {
        "id": "yW0I_EkoQDAn"
      },
      "execution_count": null,
      "outputs": []
    },
    {
      "cell_type": "code",
      "execution_count": null,
      "metadata": {
        "id": "DS8fDD1DPf4f"
      },
      "outputs": [],
      "source": [
        "# 13. How can you redirect with query parameters in Flask?\n",
        "# - Pass arguments to url_for().\n",
        "@app.route('/redirect_query')\n",
        "def redirect_query():\n",
        "    return redirect(url_for('home', user='John'))"
      ]
    },
    {
      "cell_type": "code",
      "source": [
        "# 14. How do you return JSON responses in Flask?\n",
        "# - Use jsonify() to return a JSON response.\n",
        "from flask import jsonify\n",
        "\n",
        "@app.route('/api')\n",
        "def api():\n",
        "    return jsonify({\"message\": \"Hello API"
      ],
      "metadata": {
        "id": "ISSe19JkTJua"
      },
      "execution_count": null,
      "outputs": []
    },
    {
      "cell_type": "code",
      "source": [
        "# 15. How do you capture URL parameters in Flask?\n",
        "# - Use  in route and access it in the function.\n",
        "@app.route('/user/')\n",
        "def user_profile(username):\n",
        "    return f\"User: {username}\"\n",
        "\n",
        "@app.route('/post/')\n",
        "def post(id):\n",
        "    return f\"Post ID: {id}\""
      ],
      "metadata": {
        "id": "N7vZysXBTJiD"
      },
      "execution_count": null,
      "outputs": []
    }
  ]
}